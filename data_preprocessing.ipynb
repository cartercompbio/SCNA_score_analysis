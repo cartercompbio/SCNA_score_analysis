{
 "cells": [
  {
   "cell_type": "code",
   "execution_count": 1,
   "metadata": {},
   "outputs": [],
   "source": [
    "import pandas as pd\n",
    "import numpy as np\n",
    "import seaborn as sns\n",
    "import matplotlib.pyplot as plt\n",
    "import glob\n",
    "%matplotlib inline\n",
    "import scipy.stats as sp\n",
    "import matplotlib as mtp\n",
    "#import PQ3_preprocessing as PQ3"
   ]
  },
  {
   "cell_type": "markdown",
   "metadata": {},
   "source": [
    "# SCNA score quantification"
   ]
  },
  {
   "cell_type": "code",
   "execution_count": 2,
   "metadata": {},
   "outputs": [],
   "source": [
    "Dir = \"/cellar/users/a53206221/Data/PQ3RO1/tcga_pid.txt\"\n",
    "with open(Dir) as f:\n",
    "    tcga_pid = [ x.replace(\"\\n\",\"\") for x in f.readlines()]"
   ]
  },
  {
   "cell_type": "code",
   "execution_count": 3,
   "metadata": {},
   "outputs": [
    {
     "data": {
      "text/plain": [
       "9375"
      ]
     },
     "execution_count": 3,
     "metadata": {},
     "output_type": "execute_result"
    }
   ],
   "source": [
    "len(tcga_pid)"
   ]
  },
  {
   "cell_type": "code",
   "execution_count": 4,
   "metadata": {},
   "outputs": [],
   "source": [
    "# THE BASIC BEFROE QUANTIFICATION : GET THE chr_baselength\n",
    "def get_chr_baselength():\n",
    "    chr_test_bp = pd.read_csv('~/Data/cnv_downloading/ref_chr.csv',sep='\\t')\n",
    "    chr_baselength = chr_test_bp[chr_test_bp.chromStart != 0][['chrom','chromEnd']]\n",
    "    chr_baselength.chrom = [x[3:] for x in chr_baselength.chrom.tolist()]\n",
    "    chr_baselength.rename(columns={'chrom':0},inplace=True)\n",
    "    chr_baselength['Arm'] = chr_baselength.chromEnd/2\n",
    "\n",
    "    hg38_cytobandfile = pd.read_csv('~/Data/GDC_CNV_counted/cytoBand.txt',sep='\\t',header=None)\n",
    "    tmp = hg38_cytobandfile[[True if x == 'p11.1' or x == 'q11' or x == 'p11' else False for x in hg38_cytobandfile[3].tolist()]]\n",
    "    tmpp = tmp[tmp[3] == 'p11.1'][[0,2]]\n",
    "    tmp1 = tmp[tmp[3] == 'q11'][[0,1]]\n",
    "    tmp3 = tmp[tmp[3] =='p11'][[0,2]]\n",
    "    tmp3.rename(columns={2:3},inplace=True)\n",
    "\n",
    "    tmpttt = pd.merge(tmpp,tmp1, on = [0],how='outer')\n",
    "    tmpttt = pd.merge(tmpttt,tmp3, on =[0],how = 'outer')\n",
    "    value1 = {2:tmpttt[1]}\n",
    "    value2 = {2:tmpttt[3]}\n",
    "    tmpttt.fillna(value=value1,inplace=True)\n",
    "    tmpttt.fillna(value=value2,inplace=True)\n",
    "    hg_pqband = tmpttt.drop([1,3],axis = 1)\n",
    "    hg_pqband[0] = [ x[3:] for x in hg_pqband[0].tolist()]\n",
    "\n",
    "\n",
    "    chr_baselength = pd.merge(chr_baselength,hg_pqband, on = [0])\n",
    "    chr_baselength.rename(columns={2:'q'},inplace=True)\n",
    "\n",
    "    chr_baselength['q_len'] = chr_baselength.chromEnd - chr_baselength.q\n",
    "    chr_baselength['p_len'] = chr_baselength.q\n",
    "    return chr_baselength"
   ]
  },
  {
   "cell_type": "code",
   "execution_count": 5,
   "metadata": {},
   "outputs": [],
   "source": [
    "chr_baselength = get_chr_baselength()"
   ]
  },
  {
   "cell_type": "code",
   "execution_count": 6,
   "metadata": {},
   "outputs": [],
   "source": [
    "def focal_scna(fileDir, fileHeader = False, fileSep = \"\\t\", chr_baselength = chr_baselength):\n",
    "    \"\"\"function computes the focal scna from Affymetrix segment data\n",
    "    @param fileDir: the directory of the affymetrix segment file\n",
    "    @param fileHeader: boolean value True or False, should be set to False if the segment file does not have header\n",
    "    @param fileSep: a string value, the separater of loading file using pandas.read_csv, default is \\t\n",
    "    @param chr_baselength: a helper file that contains length of each arm and chromosome\"\"\"\n",
    "    \n",
    "    # declare constant\n",
    "    AMP_THRESHOLD = np.log2(1.1)\n",
    "    DEL_THRESHOLD = np.log2(0.9)\n",
    "    AMP_THRESHOLD_H = 1\n",
    "    DEL_THRESHOLD_H = -1\n",
    "    HIGH_EVENT_COEF = 2\n",
    "    \n",
    "    # read file\n",
    "    if fileHeader == False:\n",
    "        tmp = pd.read_csv(fileDir,sep = fileSep, header = None)\n",
    "    else:\n",
    "        tmp = pd.read_csv(fileDir,sep = fileSep)\n",
    "    tmp.columns = [0, 1, 2, 3, 4] # rename the column to allow merge data frame\n",
    "    \n",
    "    merge_tmp = pd.merge(tmp,chr_baselength, on = [0]).drop_duplicates()\n",
    "    merge_tmp['length'] = merge_tmp[2] - merge_tmp[1]\n",
    "    p_arm_focal = merge_tmp[[x < z and y < z for x,y,z in zip(merge_tmp[2], merge_tmp.length, merge_tmp.p_len)]]\n",
    "    corss_measure = merge_tmp[[ x < d and d < y < k + d and z < k and z < d for x,y,z,k,d in zip(merge_tmp[1], merge_tmp[2], merge_tmp.length, merge_tmp.q_len, merge_tmp.p_len)]]\n",
    "    q_arm_focal = merge_tmp[[ x > k and y < z for x,y,z,k in zip(merge_tmp[1], merge_tmp.length, merge_tmp.q_len, merge_tmp.p_len)]]\n",
    "    \n",
    "    Focal = pd.concat([p_arm_focal,q_arm_focal])\n",
    "    Focal = pd.concat([Focal, corss_measure])\n",
    "\n",
    "    HighAmpFocal = Focal[Focal[4] >= AMP_THRESHOLD_H].shape[0]\n",
    "    LowAmpFocal = Focal[[AMP_THRESHOLD <= x < AMP_THRESHOLD_H for x in Focal[4]]].shape[0]\n",
    "    HighDelFocal = Focal[Focal[4] <= DEL_THRESHOLD_H].shape[0]\n",
    "    LowDelFocal = Focal[[DEL_THRESHOLD >= x > DEL_THRESHOLD_H for x in Focal[4]]].shape[0]\n",
    "\n",
    "    Focal_scna = np.sum((HighAmpFocal + HighDelFocal) * HIGH_EVENT_COEF) + np.sum(LowAmpFocal + LowDelFocal)\n",
    "    return Focal_scna"
   ]
  },
  {
   "cell_type": "code",
   "execution_count": 7,
   "metadata": {},
   "outputs": [],
   "source": [
    "dic_focal = {}\n",
    "fileDir = \"/cellar/users/a53206221/Data/GDC_CNVdata/\"\n",
    "for ids in tcga_pid:\n",
    "    d = glob.glob(fileDir +'*'+ ids + '*TUMOR*')[0]\n",
    "    dic_focal[ids] = focal_scna(fileDir = d,chr_baselength= chr_baselength)"
   ]
  },
  {
   "cell_type": "markdown",
   "metadata": {},
   "source": [
    "# Arm Intensity"
   ]
  },
  {
   "cell_type": "code",
   "execution_count": 8,
   "metadata": {},
   "outputs": [],
   "source": [
    "def arm_intensity(patient_id, fileDir = \"/cellar/users/a53206221/Data/GDC_CNVdata/\"):\n",
    "\n",
    "    # QUANTIFY ARM INTENSITY\n",
    "    dic_cnv_NewAlg = {}\n",
    "    dic_patient = pd.DataFrame()\n",
    "    \n",
    "    for ids in patient_id:\n",
    "        try:\n",
    "            tmp = pd.read_csv(glob.glob(fileDir +'*'+ ids + '*TUMOR*')[0],sep='\\t',header=None)\n",
    "            tmp = pd.merge(tmp,chr_baselength, on = [0])\n",
    "            tmp['length'] = tmp[2] - tmp[1]\n",
    "\n",
    "            p_dic = {}\n",
    "            q_dic = {}\n",
    "\n",
    "            for line in chr_baselength[0].tolist():\n",
    "                p_dic[line] = 0\n",
    "                q_dic[line] = 0\n",
    "\n",
    "            Arm = 0\n",
    "            Arm_dic = {}\n",
    "            p = 0\n",
    "            q = 0\n",
    "            for k in tmp[0].unique().tolist():\n",
    "                tmpt = tmp[tmp[0] == k]\n",
    "\n",
    "                psumup = 0\n",
    "                qsumup = 0\n",
    "\n",
    "                if len(tmpt[[ y > z and x < z for x,y,z in zip(tmpt[1], tmpt[2], tmpt[\"q\"])]]) > 0:\n",
    "        # if there is crossing measure\n",
    "                    index = tmpt[[ y > z and x < z for x,y,z in zip(tmpt[1], tmpt[2], tmpt[\"q\"])]].index.values[0]\n",
    "                    for i in range(tmpt.index.tolist()[0],index + 1):\n",
    "                        psumup = np.float64(tmpt.loc[np.int(i)]['length'] * tmpt.loc[np.int(i)][4]) + psumup\n",
    "                    psumup += np.float64((tmpt.loc[index]['q'] - tmpt.loc[index][1]) * tmpt.loc[index][4])\n",
    "                    p_dic[k] = float(psumup) / chr_baselength[chr_baselength[0] == k]['p_len'].values[0]\n",
    "                    Arm_dic[k+'p'] = p_dic[k]\n",
    "            # get p arm\n",
    "\n",
    "                    for i in range(index + 1,tmpt.index.tolist()[-1] + 1):\n",
    "                        qsumup = np.float64(tmpt.loc[np.int(i)]['length'] * tmpt.loc[np.int(i)][4]) + qsumup\n",
    "                    qsumup += float((tmpt.loc[index][2] - tmpt.loc[index]['q']) * tmpt.loc[index][4])\n",
    "                    q_dic[k] = float(qsumup) / chr_baselength[chr_baselength[0] == k]['q_len'].values[0]\n",
    "                    Arm_dic[k+'q'] = q_dic[k]\n",
    "                else:\n",
    "        # if there is no crossing measure\n",
    "                    if len(tmpt[tmpt[2] < tmpt['q']]) > 0:\n",
    "                # if we have p arm\n",
    "                        index = tmpt[tmpt[2] < tmpt['q']].index.tolist()[-1]\n",
    "                        length = 0\n",
    "                        for i in range(tmpt.index.tolist()[0],index + 1):\n",
    "                            psumup += np.float64(tmpt.loc[np.int(i)]['length'] * tmpt.loc[np.int(i)][4])\n",
    "                            length += np.float64(tmpt.loc[np.int(i)]['length'])\n",
    "                        p_dic[k] = float(psumup) / length\n",
    "                        Arm_dic[k+'p'] = p_dic[k]\n",
    "               # q arm\n",
    "                        length = 0\n",
    "                        for i in range(index+1,tmpt.index.tolist()[-1]+1):\n",
    "                            qsumup += np.float64(tmpt.loc[np.int(i)]['length'] * tmpt.loc[np.int(i)][4])\n",
    "                            length += length + np.float64(tmpt.loc[np.int(i)]['length'])\n",
    "                        q_dic[k] = float(qsumup) / length\n",
    "                        Arm_dic[k+'q'] = float(qsumup) / length\n",
    "                    else :\n",
    "                        p_dic[k] = 0\n",
    "                        Arm_dic[k+'p'] = 0    \n",
    "                        length = 0\n",
    "                        for i in range(tmpt.index.tolist()[0],tmpt.index.tolist()[-1]+1):\n",
    "                            qsumup += np.float64(tmpt.loc[np.int(i)]['length'] * tmpt.loc[np.int(i)][4])\n",
    "                            length += np.float64(tmpt.loc[np.int(i)]['length'])\n",
    "                        q_dic[k] = float(qsumup) / length\n",
    "                        Arm_dic[k+'q'] = q_dic[k]\n",
    "            tmpdf = pd.DataFrame({ids:Arm_dic}).apply(np.float64).T\n",
    "            dic_patient = pd.concat([dic_patient, tmpdf])\n",
    "        except IndexError:\n",
    "            print ids + ' ' + 'no such file !'\n",
    "            continue\n",
    "    return dic_patient"
   ]
  },
  {
   "cell_type": "code",
   "execution_count": 9,
   "metadata": {},
   "outputs": [
    {
     "name": "stderr",
     "output_type": "stream",
     "text": [
      "/cellar/users/a53206221/anaconda3/envs/py2.7/lib/python2.7/site-packages/ipykernel_launcher.py:60: RuntimeWarning: overflow encountered in double_scalars\n"
     ]
    }
   ],
   "source": [
    "armIntensity = arm_intensity(tcga_pid)"
   ]
  },
  {
   "cell_type": "markdown",
   "metadata": {},
   "source": [
    "# Arm and Chr"
   ]
  },
  {
   "cell_type": "code",
   "execution_count": 10,
   "metadata": {},
   "outputs": [],
   "source": [
    "order_index = []\n",
    "for i in range(1,23):\n",
    "    for arm in [\"p\",\"q\"]:\n",
    "        order_index.append(str(i) + arm)\n",
    "order_index.extend([\"Xp\",\"Xq\"])"
   ]
  },
  {
   "cell_type": "code",
   "execution_count": 11,
   "metadata": {
    "scrolled": true
   },
   "outputs": [
    {
     "data": {
      "text/plain": [
       "['1p',\n",
       " '1q',\n",
       " '2p',\n",
       " '2q',\n",
       " '3p',\n",
       " '3q',\n",
       " '4p',\n",
       " '4q',\n",
       " '5p',\n",
       " '5q',\n",
       " '6p',\n",
       " '6q',\n",
       " '7p',\n",
       " '7q',\n",
       " '8p',\n",
       " '8q',\n",
       " '9p',\n",
       " '9q',\n",
       " '10p',\n",
       " '10q',\n",
       " '11p',\n",
       " '11q',\n",
       " '12p',\n",
       " '12q',\n",
       " '13p',\n",
       " '13q',\n",
       " '14p',\n",
       " '14q',\n",
       " '15p',\n",
       " '15q',\n",
       " '16p',\n",
       " '16q',\n",
       " '17p',\n",
       " '17q',\n",
       " '18p',\n",
       " '18q',\n",
       " '19p',\n",
       " '19q',\n",
       " '20p',\n",
       " '20q',\n",
       " '21p',\n",
       " '21q',\n",
       " '22p',\n",
       " '22q',\n",
       " 'Xp',\n",
       " 'Xq']"
      ]
     },
     "execution_count": 11,
     "metadata": {},
     "output_type": "execute_result"
    }
   ],
   "source": [
    "order_index"
   ]
  },
  {
   "cell_type": "code",
   "execution_count": 12,
   "metadata": {},
   "outputs": [],
   "source": [
    "# Loading Cytoband Data\n",
    "def arm_chr_scna(patient_id, armIntensity = armIntensity):\n",
    "    \"\"\"function computes the arm level and chromosome level scna from armIntensity data\n",
    "    @param patient_id: a list of TCGA patient_id in length of 4\n",
    "    @param armIntensity: the arm level intensity data used to calculate the arm and chr SCNA level\n",
    "    @return: altered arm and chr level data frame, use arm, chr = arm_chr_scna() to upack\"\"\"\n",
    "    \n",
    "    AMP_THRESHOLD = np.log2(1.1)\n",
    "    DEL_THRESHOLD = np.log2(0.9)\n",
    "    AMP_THRESHOLD_H = 1\n",
    "    DEL_THRESHOLD_H = -1\n",
    "    HIGH_EVENT_COEF = 2\n",
    "\n",
    "    alterArm = {}\n",
    "    alterChr = {}\n",
    "\n",
    "    alterArmDf = pd.DataFrame(index = order_index)\n",
    "    alterChrDf = pd.DataFrame(index = range(1,23)+['X'])\n",
    "\n",
    "    for index in patient_id:\n",
    "        tmp = armIntensity.loc[[index]].drop_duplicates()\n",
    "        alterArm = {}\n",
    "        alterChr = {}\n",
    "        alterChr2 = {}\n",
    "        alterChr1 = {}\n",
    "        index2Drop1 = []\n",
    "        index2Drop2 = []\n",
    "        \"\"\"measure chr level first\"\"\"\n",
    "        # chrIndex2 stores those high-level alteration, which would then be multiplied by a higher coefficient during quantification\n",
    "        chrIndex2 = [ p_arm <= DEL_THRESHOLD_H and q_arm <= DEL_THRESHOLD_H or \n",
    "             AMP_THRESHOLD_H <= p_arm and AMP_THRESHOLD_H <= q_arm \n",
    "             for p_arm, q_arm in zip([tmp[str(x)+'p' if x < 23 else 'Xp'].values[0] for x in range(1,24)], [tmp[str(x)+'q' if x < 23 else 'Xq'].values[0] for x in range(1,24)])]  \n",
    "\n",
    "        chrIndex2 = [i + 1 if i < 22 else 'X' for i, e in enumerate(chrIndex2) if e == True]\n",
    "        if chrIndex2 != []:\n",
    "            index2Drop2 = chrIndex2\n",
    "            alterChr2 = {x:(np.sign(tmp[str(x)+'p'].values[0]) * HIGH_EVENT_COEF) for x in chrIndex2}\n",
    "        # chrIndex1 stores the normal level alteration, which multiplies by 1 instead of 2\n",
    "        chrIndex1 = [ DEL_THRESHOLD_H <= p_arm < DEL_THRESHOLD and DEL_THRESHOLD_H <= q_arm < DEL_THRESHOLD or \n",
    "                     AMP_THRESHOLD <= p_arm < AMP_THRESHOLD_H and AMP_THRESHOLD <= q_arm < AMP_THRESHOLD_H \n",
    "                     for p_arm, q_arm in zip([tmp[str(x)+'p' if x < 23 else 'Xp'].values[0] for x in range(1,24)], [tmp[str(x)+'q' if x < 23 else 'Xq'].values[0] for x in range(1,24)])] \n",
    "\n",
    "        chrIndex1 = [i+1 if i < 22 else 'X' for i, e in enumerate(chrIndex1) if e == True]\n",
    "        if chrIndex1 != []:\n",
    "            index2Drop1 = chrIndex1\n",
    "            alterChr1 = {x:(np.sign(tmp[str(x)+'p'].values[0]) * 1) for x in chrIndex1}\n",
    "\n",
    "        alterChr = alterChr2.copy()\n",
    "        alterChr.update(alterChr1)\n",
    "\n",
    "        alterChrDf[index] = pd.Series(alterChr)\n",
    "\n",
    "        \"\"\"measure arm level second, after filter out chr level, avoid duplicated calculation\"\"\"\n",
    "\n",
    "        alterArm = {}\n",
    "\n",
    "        index2Drop = index2Drop1 + index2Drop2\n",
    "        index2Drop = list(np.sort(index2Drop * 2))\n",
    "        for i in range(0,len(index2Drop),2):\n",
    "            index2Drop[i] = str(index2Drop[i]) + 'p'\n",
    "            index2Drop[i+1] = str(index2Drop[i+1]) + 'q'\n",
    "\n",
    "        # drop those already counted as arm level\n",
    "        # to avoid duplicated calculation\n",
    "        tmp.drop(index2Drop,axis = 1, inplace =True)\n",
    "        for i in range(0,len(order_index)):\n",
    "            try:\n",
    "                if (tmp[order_index[i]].values >= AMP_THRESHOLD_H):\n",
    "                    alterArm[order_index[i]] = HIGH_EVENT_COEF\n",
    "                elif (tmp[order_index[i]].values <= DEL_THRESHOLD_H):\n",
    "                    alterArm[order_index[i]] = -HIGH_EVENT_COEF\n",
    "                elif (tmp[order_index[i]].values >= AMP_THRESHOLD):\n",
    "                    alterArm[order_index[i]] = 1\n",
    "                elif (tmp[order_index[i]].values <= DEL_THRESHOLD):\n",
    "                    alterArm[order_index[i]] = -1\n",
    "            except KeyError:\n",
    "                continue\n",
    "        alterArmDf[index] = pd.Series(alterArm)\n",
    "    return alterArmDf, alterChrDf"
   ]
  },
  {
   "cell_type": "code",
   "execution_count": 13,
   "metadata": {
    "scrolled": true
   },
   "outputs": [],
   "source": [
    "alterArmDf, alterChrDf = arm_chr_scna(patient_id= tcga_pid, armIntensity = armIntensity)"
   ]
  },
  {
   "cell_type": "code",
   "execution_count": 14,
   "metadata": {},
   "outputs": [],
   "source": [
    "armSeries = pd.Series(np.sum(np.abs(alterArmDf.fillna(0).reset_index().rename(columns = {'index':'arm'}).set_index('arm'))))\n",
    "chrSeries = pd.Series(np.sum(np.abs(alterChrDf.fillna(0).reset_index().rename(columns = {'index':'chr'}).set_index('chr'))))"
   ]
  },
  {
   "cell_type": "code",
   "execution_count": 15,
   "metadata": {},
   "outputs": [],
   "source": [
    "SCNADf = pd.DataFrame({\"focal\" : pd.Series(dic_focal),\n",
    "                       \"arm\" : armSeries,\n",
    "                       \"chr\" : chrSeries})"
   ]
  },
  {
   "cell_type": "code",
   "execution_count": 16,
   "metadata": {},
   "outputs": [
    {
     "name": "stderr",
     "output_type": "stream",
     "text": [
      "/cellar/users/a53206221/anaconda3/envs/py2.7/lib/python2.7/site-packages/sklearn/utils/validation.py:595: DataConversionWarning: Data with input dtype int64 was converted to float64 by MinMaxScaler.\n",
      "  warnings.warn(msg, DataConversionWarning)\n"
     ]
    }
   ],
   "source": [
    "from sklearn.preprocessing import MinMaxScaler\n",
    "mm_scaler = MinMaxScaler(feature_range = (0,10))\n",
    "SCNADf[\"SCNA\"] = mm_scaler.fit_transform(SCNADf[\"focal\"].values.reshape(-1,1)) + mm_scaler.fit_transform(SCNADf[\"arm\"].values.reshape(-1,1)) + mm_scaler.fit_transform(SCNADf[\"chr\"].values.reshape(-1,1))"
   ]
  },
  {
   "cell_type": "code",
   "execution_count": 17,
   "metadata": {},
   "outputs": [],
   "source": [
    "#SCNADf.reset_index().rename(columns = {\"index\":\"patient_id\"}).to_csv(\"/cellar/users/a53206221/Data/PQ3RO1/SCNADf_v3.tsv\",sep = '\\t')"
   ]
  },
  {
   "cell_type": "markdown",
   "metadata": {},
   "source": [
    "# Quantification of P53 activity"
   ]
  },
  {
   "cell_type": "code",
   "execution_count": 18,
   "metadata": {},
   "outputs": [],
   "source": [
    "P53_10_repressed_target = ['CCNB1','PLK1','EED','CDK1','EZH2','CCNB2','E2F3','MYBL2','FOXM1','E2F2']\n",
    "tcgaDf = pd.read_csv(\"/cellar/users/a53206221/Data/Expression/TCGA_TP_allgene.csv\")"
   ]
  },
  {
   "cell_type": "code",
   "execution_count": 19,
   "metadata": {},
   "outputs": [],
   "source": [
    "from sklearn.preprocessing import MinMaxScaler\n",
    "invers_transform = MinMaxScaler(feature_range = (0, 10))\n",
    "\n",
    "P53acScore = invers_transform.fit_transform(- np.sum(sp.stats.zscore(np.log2(1 + tcgaDf[P53_10_repressed_target])),axis = 1).reshape(-1,1))"
   ]
  },
  {
   "cell_type": "code",
   "execution_count": 20,
   "metadata": {},
   "outputs": [],
   "source": [
    "#pd.DataFrame({\"p53acScore\":np.ravel(P53acScore),\n",
    "#              \"patient_id\":tcgaDf.patient_id.tolist()}).to_csv(\"/cellar/users/a53206221/Data/PQ3RO1/P53acScore.tsv\",sep = '\\t')"
   ]
  },
  {
   "cell_type": "markdown",
   "metadata": {},
   "source": [
    "# Lasso regrssion model selection"
   ]
  },
  {
   "cell_type": "code",
   "execution_count": 21,
   "metadata": {},
   "outputs": [],
   "source": [
    "Dir = \"/cellar/users/a53206221/Data/REACTOME/\"\n",
    "import os\n",
    "from sklearn.linear_model import LassoCV\n",
    "\n",
    "dict_f = {}\n",
    "dict_gene = {}\n",
    "files = os.listdir(Dir)\n",
    "for f in files:\n",
    "    if f != \".ipynb_checkpoints\":\n",
    "        dict_f[f] = pd.read_csv(Dir + f,sep = '\\t')\n",
    "        dict_gene[f.split(\"_\")[0]] = [x.split()[1] for x in dict_f[f][\"MoleculeName\"]]\n",
    "        \n",
    "dict_gene[\"PERK\"].remove(\"IL8\")\n",
    "dict_gene[\"PERK\"].append(\"CXCL8\")\n",
    "\n",
    "dict_gene[\"XBP1S\"].remove(\"ATPV0D1\")\n",
    "dict_gene[\"XBP1S\"].append(\"ATP6V0D1\")\n",
    "\n",
    "dict_gene[\"XBP1S\"].remove(\"C19orf10\")\n",
    "dict_gene[\"XBP1S\"].append(\"MYDGF\")\n",
    "\n",
    "dict_gene[\"XBP1S\"].remove(\"SRPR\")\n",
    "#dict_gene[\"XBP1S\"].append(\"SPRPA\")\n",
    "\n",
    "dict_gene[\"IRE1alpha\"].remove(\"SRPR\")\n",
    "#dict_gene[\"XBP1S\"].append(\"SPRPA\")\n",
    "\n",
    "dict_gene[\"IRE1alpha\"].remove(\"ATPV0D1\")\n",
    "dict_gene[\"IRE1alpha\"].append(\"ATP6V0D1\")\n",
    "\n",
    "dict_gene[\"IRE1alpha\"].remove(\"Xbp1\")\n",
    "dict_gene[\"IRE1alpha\"].remove(\"Xbp1\")\n",
    "dict_gene[\"IRE1alpha\"].append(\"XBP1\")\n",
    "\n",
    "dict_gene[\"IRE1alpha\"].remove(\"C19orf10\")\n",
    "dict_gene[\"IRE1alpha\"].append(\"MYDGF\")"
   ]
  },
  {
   "cell_type": "code",
   "execution_count": 22,
   "metadata": {},
   "outputs": [],
   "source": [
    "uprGene = []\n",
    "for i in range(len(dict_gene.values())):\n",
    "    uprGene.extend(dict_gene.values()[i])\n",
    "    \n",
    "uprGene = list(set(uprGene)) # remove duplicates\n",
    "\n",
    "RIDD_Alltargets = ['ANGPTL3','CD59','BLOC1S1','HSPA5','CES1','COL6A1','CYP1A2','CYP2E1','ERGIC3','GALNT2','GAS2','GEMIN5',\n",
    "                  'GPC3','GYLTL1B','HGSNAT','INS','ERN1','ITGB2','MKRN2','PDGFRB','PDIA4','PDK2','PEPD','PER1','PPP2R1A','PMP22',\n",
    "                  'PRKCD','RTN4','RUVBL1','SCARA3','SPARC','SUMO1','TAPBP']"
   ]
  },
  {
   "cell_type": "code",
   "execution_count": 23,
   "metadata": {},
   "outputs": [],
   "source": [
    "tcgaDf_normal = pd.read_csv(\"/cellar/users/a53206221/Data/Expression/TCGA_NT_allgene.csv\")"
   ]
  },
  {
   "cell_type": "code",
   "execution_count": 24,
   "metadata": {},
   "outputs": [],
   "source": [
    "def modelSelection(tumor, normal, model):\n",
    "    \"\"\"model selection\n",
    "    @model: the sklearn model class;\n",
    "    @alphas: the regularization parameters for Lasso Regression;\n",
    "    @model_name: str, name of the model;\n",
    "    \"\"\"\n",
    "    pathwayCVDf = pd.DataFrame(columns = [\"PERK\",\"ATF6\",\"XBP1S\",\"RIDD\"],)\n",
    "    diseaseList = normal.disease.unique().tolist()\n",
    "    #selected_genes = {\"PERK\":{}, \"ATF6\":{}, \"XBP1S\":{},\"RIDD\":{}}\n",
    "    gene_coefs = {}\n",
    "    alphaVal = {\"PERK\":{}, \"ATF6\":{}, \"XBP1S\":{},\"RIDD\":{}}\n",
    "    L = tumor.shape[0]\n",
    "    pidList = []\n",
    "    for label, pathway in zip([\"PERK\",\"ATF6\",\"XBP1S\",\"RIDD\"],[dict_gene[\"PERK\"],dict_gene[\"ATF6\"],dict_gene[\"XBP1S\"],RIDD_Alltargets]):\n",
    "        array = []\n",
    "        for disease in diseaseList:\n",
    "            \n",
    "            tp = tumor[tumor.disease == disease]\n",
    "            nt = normal[normal.disease == disease]\n",
    "            \n",
    "            y = [1] * tp.shape[0] + [0] * nt.shape[0]\n",
    "            X = np.c_[tp[pathway].T,nt[pathway].T]\n",
    "            X = np.log2(1 + X)\n",
    "            \n",
    "            if label == \"RIDD\":\n",
    "                collector = set()\n",
    "                for gene in pathway:\n",
    "                    test = sp.ranksums(tp[gene],nt[gene])\n",
    "                    if test[0] > 0 and test[1] < 0.05:\n",
    "                        collector.add(gene)\n",
    "                tp = tp[pathway]\n",
    "                nt = nt[pathway]\n",
    "                tp = tp[[ x for x in tp.columns.tolist() if x not in collector]]\n",
    "                nt = nt[[ x for x in nt.columns.tolist() if x not in collector]]        \n",
    "\n",
    "                y = [1] * tp.shape[0] + [0] * nt.shape[0]\n",
    "                X = np.c_[tp.T,nt.T]\n",
    "                X = np.log2(1 + X)\n",
    "                pathway = tp.columns.tolist()\n",
    "\n",
    "            reg = model\n",
    "            reg.fit(X.T, y)\n",
    "            \n",
    "            # append the new pathway scores for a disease into the array\n",
    "            array.extend(list(np.dot(np.log2(1 + tp[pathway]),reg.coef_)))\n",
    "            \n",
    "            # udpate the patient_id list\n",
    "            if label == \"PERK\":\n",
    "                pidList.extend(tumor[tumor.disease == disease].patient_id.tolist())\n",
    "            \n",
    "            # record the alpha for this tumor types\n",
    "            alphaVal[label][disease] = reg.alpha_\n",
    "            #selected_genes[label][disease] = [ x for x,y in zip(pathway,reg.coef_) if y != 0]\n",
    "            if disease not in gene_coefs:\n",
    "                gene_coefs[disease] = {}\n",
    "            for i,gene in enumerate(pathway):\n",
    "                if gene not in gene_coefs[disease].keys() or gene_coefs[disease][gene] == 0:\n",
    "                    gene_coefs[disease][gene] = reg.coef_[i]\n",
    "        pathwayCVDf[label] = array\n",
    "\n",
    "    pathwayCVDf[\"patient_id\"] = pidList\n",
    "    return pathwayCVDf, alphaVal, gene_coefs"
   ]
  },
  {
   "cell_type": "code",
   "execution_count": 25,
   "metadata": {},
   "outputs": [],
   "source": [
    "lasCV = LassoCV(cv = 10)\n",
    "pathwayCVdf, alphas_las, selected_genes = modelSelection(tcgaDf,tcgaDf_normal, lasCV)"
   ]
  },
  {
   "cell_type": "code",
   "execution_count": 26,
   "metadata": {},
   "outputs": [],
   "source": [
    "uprGene_and_ridd = []\n",
    "uprGene_and_ridd = set(np.copy(uprGene))\n",
    "uprGene_and_ridd.update(RIDD_Alltargets)\n",
    "uprGene_and_ridd = list(uprGene_and_ridd)"
   ]
  },
  {
   "cell_type": "code",
   "execution_count": 27,
   "metadata": {},
   "outputs": [],
   "source": [
    "dfplot = pd.DataFrame(index = uprGene_and_ridd, columns = selected_genes.keys())\n",
    "scaler_pos = MinMaxScaler(feature_range=(0.1,1))\n",
    "scaler_neg = MinMaxScaler(feature_range=(-1,0.1))\n",
    "for disease in selected_genes.keys():\n",
    "    re = [[selected_genes[disease][x],x] for x in selected_genes[disease] if selected_genes[disease][x] > 0]\n",
    "    pos, pos_key = [x[0] for x in re], [x[1] for x in re]\n",
    "    re = [[selected_genes[disease][x],x] for x in selected_genes[disease] if selected_genes[disease][x] < 0]\n",
    "    neg, neg_key = [x[0] for x in re], [x[1] for x in re]\n",
    "    \n",
    "    # rescale\n",
    "    if len(pos) > 1:\n",
    "        pos = scaler_pos.fit_transform(np.reshape(pos,(-1,1)))\n",
    "        pos = np.ravel(pos)\n",
    "        for i,k in enumerate(pos_key):\n",
    "            selected_genes[disease][k] = pos[i]\n",
    "    elif len(pos) == 1:\n",
    "        selected_genes[disease][pos_key[0]] = 1 # the only positive coefficient ,so set it to the maximum value\n",
    "    \n",
    "    if len(neg) > 1:\n",
    "        neg = scaler_neg.fit_transform(np.reshape(neg,(-1,1)))\n",
    "        neg = np.ravel(neg)\n",
    "        for i,k in enumerate(neg_key):\n",
    "            selected_genes[disease][k] = neg[i]\n",
    "            \n",
    "    elif len(neg) == 1:\n",
    "        selected_genes[disease][neg_key[0]] = -1 # the only negative coefficient ,so set it to the minimum value\n",
    "        \n",
    "    dfplot[disease] = pd.Series(index = selected_genes[disease].keys(), data = selected_genes[disease].values())\n",
    "    \n",
    "#dfplot.to_csv(\"/cellar/users/a53206221/Data/PQ3RO1/fig/update.6.10.2020/Lasso.gene.matrix.csv\")"
   ]
  },
  {
   "cell_type": "code",
   "execution_count": 28,
   "metadata": {},
   "outputs": [],
   "source": [
    "def CreateColorMap(colormap):\n",
    "    zipList = []\n",
    "    tmpGeneList = set(dict_gene[\"PERK\"] + dict_gene[\"ATF6\"] + dict_gene[\"XBP1S\"] + RIDD_Alltargets)\n",
    "    for gene in tmpGeneList:\n",
    "        if gene == \"XBP1\" or gene == \"DDIT3\":\n",
    "            zipList.append(colormap[3]) # overlapping genes\n",
    "        elif gene in dict_gene[\"XBP1S\"]:\n",
    "            zipList.append(colormap[0])\n",
    "        elif gene in dict_gene[\"PERK\"]:\n",
    "            zipList.append(colormap[2])\n",
    "        elif gene in dict_gene[\"ATF6\"]:\n",
    "            zipList.append(colormap[1])\n",
    "        elif gene in RIDD_Alltargets:\n",
    "            zipList.append(colormap[4])\n",
    "    return dict(zip(tmpGeneList,zipList))"
   ]
  },
  {
   "cell_type": "code",
   "execution_count": 29,
   "metadata": {
    "scrolled": true
   },
   "outputs": [
    {
     "data": {
      "text/plain": [
       "<seaborn.matrix.ClusterGrid at 0x7f04a64acc50>"
      ]
     },
     "execution_count": 29,
     "metadata": {},
     "output_type": "execute_result"
    },
    {
     "data": {
      "image/png": "[encoded data removed]",
      "text/plain": [
       "<Figure size 576x1728 with 5 Axes>"
      ]
     },
     "metadata": {
      "needs_background": "light"
     },
     "output_type": "display_data"
    }
   ],
   "source": [
    "r_color = CreateColorMap(sns.color_palette(\"Set2\")[:5])\n",
    "sns.clustermap((dfplot.fillna(0)),\n",
    "               figsize = (8,24),\n",
    "               center = 0,\n",
    "               cmap = \"RdBu_r\",\n",
    "               row_colors = [r_color[x] for x in dfplot.index.tolist()],\n",
    "               #method = \"ward\",\n",
    "               vmax = .7,\n",
    "               vmin = -.7,\n",
    "               )\n",
    "#plt.savefig(\"/cellar/users/a53206221/Data/PQ3RO1/fig/update.6.10.2020/Lasso.coef.clustermap.pdf\", bbox_inches = \"tight\")"
   ]
  }
 ],
 "metadata": {
  "kernelspec": {
   "display_name": "Python 2",
   "language": "python",
   "name": "python2"
  },
  "language_info": {
   "codemirror_mode": {
    "name": "ipython",
    "version": 2
   },
   "file_extension": ".py",
   "mimetype": "text/x-python",
   "name": "python",
   "nbconvert_exporter": "python",
   "pygments_lexer": "ipython2",
   "version": "2.7.15"
  }
 },
 "nbformat": 4,
 "nbformat_minor": 2
}
